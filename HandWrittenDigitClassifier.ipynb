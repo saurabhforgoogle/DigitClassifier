{
 "cells": [
  {
   "cell_type": "code",
   "execution_count": 3,
   "metadata": {
    "tags": []
   },
   "outputs": [],
   "source": [
    "import tensorflow as tf\n",
    "from tensorflow.keras.models import Sequential\n",
    "from tensorflow.keras.layers import Activation,Conv2D,MaxPooling2D,Dropout,Dense,Flatten\n",
    "\n",
    "from tensorflow.keras.utils import to_categorical\n",
    "mnist=tf.keras.datasets.mnist\n",
    "(X_train,y_train),(X_test,y_test)=mnist.load_data()"
   ]
  },
  {
   "cell_type": "code",
   "execution_count": 4,
   "metadata": {},
   "outputs": [
    {
     "data": {
      "image/png": "[encoded data removed]",
      "text/plain": [
       "<Figure size 1152x1152 with 16 Axes>"
      ]
     },
     "metadata": {},
     "output_type": "display_data"
    }
   ],
   "source": [
    "import matplotlib.pyplot as plt\n",
    "fig,ax=plt.subplots(4,4,figsize=(16,16))\n",
    "index=0\n",
    "for axes in ax:\n",
    "    for axis in axes:\n",
    "        axis.imshow(X_train[index],cmap='Greys')\n",
    "        axis.set_title(y_train[index])\n",
    "        axis.set_xticks([])\n",
    "        axis.set_yticks([])\n",
    "        index+=1\n",
    "\n"
   ]
  },
  {
   "cell_type": "code",
   "execution_count": 14,
   "metadata": {},
   "outputs": [],
   "source": [
    "X_train=X_train/255.0\n",
    "X_test=X_test/255.0"
   ]
  },
  {
   "cell_type": "code",
   "execution_count": 15,
   "metadata": {},
   "outputs": [],
   "source": [
    "X_train=X_train.reshape(60000,28,28,1)\n",
    "X_test=X_test.reshape(10000,28,28,1)"
   ]
  },
  {
   "cell_type": "code",
   "execution_count": 16,
   "metadata": {},
   "outputs": [],
   "source": [
    "Y_train=to_categorical(y_train, 10)\n",
    "Y_test=to_categorical(y_test, 10)"
   ]
  },
  {
   "cell_type": "code",
   "execution_count": 17,
   "metadata": {},
   "outputs": [
    {
     "data": {
      "text/plain": [
       "(60000, 10)"
      ]
     },
     "execution_count": 17,
     "metadata": {},
     "output_type": "execute_result"
    }
   ],
   "source": [
    "Y_train.shape"
   ]
  },
  {
   "cell_type": "code",
   "execution_count": 20,
   "metadata": {
    "tags": []
   },
   "outputs": [
    {
     "name": "stdout",
     "output_type": "stream",
     "text": [
      "Epoch 1/20\n",
      "1875/1875 [==============================] - 52s 28ms/step - loss: 0.1885 - accuracy: 0.9418 - val_loss: 0.0567 - val_accuracy: 0.9809\n",
      "Epoch 2/20\n",
      "1875/1875 [==============================] - 58s 31ms/step - loss: 0.0647 - accuracy: 0.9799 - val_loss: 0.0371 - val_accuracy: 0.9876\n",
      "Epoch 3/20\n",
      "1875/1875 [==============================] - 59s 32ms/step - loss: 0.0497 - accuracy: 0.9841 - val_loss: 0.0338 - val_accuracy: 0.9878\n",
      "Epoch 4/20\n",
      "1875/1875 [==============================] - 60s 32ms/step - loss: 0.0415 - accuracy: 0.9869 - val_loss: 0.0343 - val_accuracy: 0.9896\n",
      "Epoch 5/20\n",
      "1875/1875 [==============================] - 55s 29ms/step - loss: 0.0367 - accuracy: 0.9884 - val_loss: 0.0352 - val_accuracy: 0.9874\n",
      "Epoch 6/20\n",
      "1875/1875 [==============================] - 52s 28ms/step - loss: 0.0327 - accuracy: 0.9890 - val_loss: 0.0308 - val_accuracy: 0.9904\n",
      "Epoch 7/20\n",
      "1875/1875 [==============================] - 53s 28ms/step - loss: 0.0290 - accuracy: 0.9903 - val_loss: 0.0292 - val_accuracy: 0.9909\n",
      "Epoch 8/20\n",
      "1875/1875 [==============================] - 49s 26ms/step - loss: 0.0256 - accuracy: 0.9914 - val_loss: 0.0293 - val_accuracy: 0.9903\n",
      "Epoch 9/20\n",
      "1875/1875 [==============================] - 59s 31ms/step - loss: 0.0241 - accuracy: 0.9924 - val_loss: 0.0253 - val_accuracy: 0.9916\n",
      "Epoch 10/20\n",
      "1875/1875 [==============================] - 55s 29ms/step - loss: 0.0232 - accuracy: 0.9923 - val_loss: 0.0259 - val_accuracy: 0.9919\n",
      "Epoch 11/20\n",
      "1875/1875 [==============================] - 59s 32ms/step - loss: 0.0209 - accuracy: 0.9933 - val_loss: 0.0271 - val_accuracy: 0.9916\n",
      "Epoch 12/20\n",
      "1875/1875 [==============================] - 54s 29ms/step - loss: 0.0191 - accuracy: 0.9936 - val_loss: 0.0300 - val_accuracy: 0.9907\n",
      "Epoch 13/20\n",
      "1875/1875 [==============================] - 54s 29ms/step - loss: 0.0181 - accuracy: 0.9938 - val_loss: 0.0273 - val_accuracy: 0.9912\n",
      "Epoch 14/20\n",
      "1875/1875 [==============================] - 56s 30ms/step - loss: 0.0176 - accuracy: 0.9940 - val_loss: 0.0300 - val_accuracy: 0.9907\n",
      "Epoch 15/20\n",
      "1875/1875 [==============================] - 55s 29ms/step - loss: 0.0162 - accuracy: 0.9945 - val_loss: 0.0279 - val_accuracy: 0.9910\n",
      "Epoch 16/20\n",
      "1875/1875 [==============================] - 57s 31ms/step - loss: 0.0158 - accuracy: 0.9948 - val_loss: 0.0344 - val_accuracy: 0.9892\n",
      "Epoch 17/20\n",
      "1875/1875 [==============================] - 58s 31ms/step - loss: 0.0144 - accuracy: 0.9950 - val_loss: 0.0303 - val_accuracy: 0.9912\n",
      "Epoch 18/20\n",
      "1875/1875 [==============================] - 59s 31ms/step - loss: 0.0144 - accuracy: 0.9948 - val_loss: 0.0298 - val_accuracy: 0.9911\n",
      "Epoch 19/20\n",
      "1875/1875 [==============================] - 56s 30ms/step - loss: 0.0120 - accuracy: 0.9958 - val_loss: 0.0319 - val_accuracy: 0.9909\n",
      "Epoch 20/20\n",
      "1875/1875 [==============================] - 54s 29ms/step - loss: 0.0129 - accuracy: 0.9955 - val_loss: 0.0349 - val_accuracy: 0.9902\n"
     ]
    },
    {
     "data": {
      "text/plain": [
       "<tensorflow.python.keras.callbacks.History at 0x267ca5b6b80>"
      ]
     },
     "execution_count": 20,
     "metadata": {},
     "output_type": "execute_result"
    }
   ],
   "source": [
    "model=Sequential()\n",
    "model.add(Conv2D(32, (3, 3), padding='same',input_shape=X_train.shape[1:]))\n",
    "model.add(Activation('relu'))\n",
    "model.add(MaxPooling2D(pool_size=(2, 2), padding='same'))\n",
    "\n",
    "model.add(Conv2D(32, (3, 3), padding='same',input_shape=X_train.shape[1:]))\n",
    "model.add(Activation('relu'))\n",
    "model.add(MaxPooling2D(pool_size=(2, 2), padding='same'))\n",
    "\n",
    "\n",
    "model.add(Dropout(0.2))\n",
    "\n",
    "model.add(Flatten())\n",
    "\n",
    "\n",
    "model.add(Dense(10))\n",
    "model.add(Activation('softmax'))\n",
    "\n",
    "model.compile(optimizer='adam',\n",
    "             loss='categorical_crossentropy',\n",
    "             metrics=['accuracy'])\n",
    "model.fit(X_train,Y_train,batch_size=32,validation_data=(X_test,Y_test),epochs=20)\n"
   ]
  },
  {
   "cell_type": "code",
   "execution_count": 21,
   "metadata": {
    "tags": []
   },
   "outputs": [
    {
     "name": "stdout",
     "output_type": "stream",
     "text": [
      "INFO:tensorflow:Assets written to: HandWrittenDigitClassifier.model\\assets\n"
     ]
    }
   ],
   "source": [
    "model.save('HandWrittenDigitClassifier.model')"
   ]
  },
  {
   "cell_type": "code",
   "execution_count": 5,
   "metadata": {},
   "outputs": [],
   "source": [
    "model=tf.keras.models.load_model(r'C:\\Users\\saurabh\\Documents\\Desktop\\Neural Network and Deep Learning\\digits detection\\HandWrittenDigitClassifier.model')"
   ]
  },
  {
   "cell_type": "code",
   "execution_count": 8,
   "metadata": {},
   "outputs": [
    {
     "data": {
      "text/plain": [
       "array([[0., 0., 0., 0., 0., 0., 0., 1., 0., 0.]], dtype=float32)"
      ]
     },
     "execution_count": 8,
     "metadata": {},
     "output_type": "execute_result"
    }
   ],
   "source": [
    "import numpy as np\n",
    "Pred=model.predict(X_test[0].reshape(1,28,28,1))\n",
    "Pred"
   ]
  },
  {
   "cell_type": "code",
   "execution_count": 9,
   "metadata": {},
   "outputs": [],
   "source": [
    "import cv2\n",
    "cv2.imshow(\"test\",X_test[0])\n",
    "cv2.waitKey(0) \n",
    "\n",
    "cv2.destroyAllWindows() "
   ]
  },
  {
   "cell_type": "code",
   "execution_count": 10,
   "metadata": {},
   "outputs": [
    {
     "data": {
      "text/plain": [
       "array([7], dtype=int64)"
      ]
     },
     "execution_count": 10,
     "metadata": {},
     "output_type": "execute_result"
    }
   ],
   "source": [
    "np.where(Pred[0]>0.5)[0]"
   ]
  },
  {
   "cell_type": "code",
   "execution_count": 13,
   "metadata": {},
   "outputs": [
    {
     "data": {
      "text/plain": [
       "7"
      ]
     },
     "execution_count": 13,
     "metadata": {},
     "output_type": "execute_result"
    }
   ],
   "source": [
    "np.where(Pred[0]==np.max(Pred[0]))[0][0]"
   ]
  },
  {
   "cell_type": "code",
   "execution_count": null,
   "metadata": {},
   "outputs": [],
   "source": []
  }
 ],
 "metadata": {
  "kernelspec": {
   "display_name": "Python 3.8.2 64-bit",
   "language": "python",
   "name": "python38264bit8839610f77eb428ba40d2c4dc493bc82"
  },
  "language_info": {
   "codemirror_mode": {
    "name": "ipython",
    "version": 3
   },
   "file_extension": ".py",
   "mimetype": "text/x-python",
   "name": "python",
   "nbconvert_exporter": "python",
   "pygments_lexer": "ipython3",
   "version": "3.8.2"
  }
 },
 "nbformat": 4,
 "nbformat_minor": 2
}
